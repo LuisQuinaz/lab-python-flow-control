{
 "cells": [
  {
   "cell_type": "markdown",
   "id": "d3bfc191-8885-42ee-b0a0-bbab867c6f9f",
   "metadata": {
    "tags": []
   },
   "source": [
    "# Lab | Flow Control"
   ]
  },
  {
   "cell_type": "markdown",
   "id": "3851fcd1-cf98-4653-9c89-e003b7ec9400",
   "metadata": {},
   "source": [
    "## Exercise: Managing Customer Orders Optimized\n",
    "\n",
    "In the last lab, you were starting an online store that sells various products. To ensure smooth operations, you developed a program that manages customer orders and inventory.\n",
    "\n",
    "You did so without using flow control. Let's go a step further and improve this code.\n",
    "\n",
    "Follow the steps below to complete the exercise:\n",
    "\n",
    "1. Look at your code from the lab data structures, and improve repeated code with loops.\n",
    "\n",
    "2. Instead of asking the user to input the name of three products that a customer wants to order, do the following:\n",
    "    \n",
    "    a. Prompt the user to enter the name of a product that a customer wants to order.\n",
    "    \n",
    "    b. Add the product name to the \"customer_orders\" set.\n",
    "    \n",
    "    c. Ask the user if they want to add another product (yes/no).\n",
    "    \n",
    "    d. Continue the loop until the user does not want to add another product.\n",
    "\n",
    "3. Instead of updating the inventory by subtracting 1 from the quantity of each product, only do it for  the products that were ordered (those in \"customer_orders\")."
   ]
  },
  {
   "cell_type": "code",
   "execution_count": 54,
   "id": "9a71bfe6-2fb3-4a1a-90c9-bd650905e8c4",
   "metadata": {},
   "outputs": [
    {
     "name": "stdin",
     "output_type": "stream",
     "text": [
      "Whats the Quantity of t-shirt:  10\n",
      "Whats the Quantity of mug:  10\n",
      "Whats the Quantity of hat:  10\n",
      "Whats the Quantity of book:  10\n",
      "Whats the Quantity of keychain:  10\n"
     ]
    }
   ],
   "source": [
    "products = [\"t-shirt\", \"mug\", \"hat\", \"book\", \"keychain\"]\n",
    "\n",
    "inventory = {}\n",
    "\n",
    "tshirt = int(input(\"Whats the Quantity of t-shirt: \"))\n",
    "mug = int(input(\"Whats the Quantity of mug: \"))\n",
    "hat = int(input(\"Whats the Quantity of hat: \"))\n",
    "book = int(input(\"Whats the Quantity of book: \"))\n",
    "keychain = int(input(\"Whats the Quantity of keychain: \"))\n",
    "\n",
    "inventory[\"t-shirt\"] = tshirt\n",
    "inventory[\"mug\"] = mug\n",
    "inventory[\"hat\"] = hat\n",
    "inventory[\"book\"] = book\n",
    "inventory[\"keychain\"] = keychain\n"
   ]
  },
  {
   "cell_type": "code",
   "execution_count": 55,
   "id": "7db397a1-cf2f-47d1-b012-e2a3d413ca43",
   "metadata": {},
   "outputs": [],
   "source": [
    "customer_orders = []"
   ]
  },
  {
   "cell_type": "code",
   "execution_count": 56,
   "id": "d301db08-9359-4cbd-b493-0b5b02100e75",
   "metadata": {},
   "outputs": [
    {
     "name": "stdin",
     "output_type": "stream",
     "text": [
      "Which product do you want to order?  hat\n",
      "Do you want to add another product? yes/no  yes\n",
      "Which Product you want to order?  book\n",
      "Do you want to add another product? yes/no  no\n"
     ]
    },
    {
     "name": "stdout",
     "output_type": "stream",
     "text": [
      "Thank you and come again!\n",
      "Your orders: ['hat', 'book']\n"
     ]
    }
   ],
   "source": [
    "customer_orders.append(input(\"Which product do you want to order? \"))\n",
    "\n",
    "more_order = input(\"Do you want to add another product? yes/no \").upper()\n",
    "\n",
    "while more_order == \"YES\":\n",
    "    customer_orders.append(input(\"Which Product you want to order? \"))\n",
    "    more_order = input(\"Do you want to add another product? yes/no \").upper()\n",
    "    break\n",
    "\n",
    "print(\"Thank you and come again!\")\n",
    "print(f\"Your orders: {customer_orders}\")"
   ]
  },
  {
   "cell_type": "code",
   "execution_count": 57,
   "id": "68d2f487-6c2f-4375-a9cd-323337b74f73",
   "metadata": {},
   "outputs": [
    {
     "name": "stdout",
     "output_type": "stream",
     "text": [
      "Total Products Ordered: 2\n",
      "Percentage of Products Ordered: 1.4184397163120568%\n"
     ]
    }
   ],
   "source": [
    "total_products_ordered = len(customer_orders)\n",
    "percentage_of_products_ordered = total_products_ordered / total_available_products *100\n",
    "total_available_products = int(tshirt) + int(mug) + int(hat) + int(book) + int(keychain)\n",
    "\n",
    "#Order Statistics:\n",
    "print(f\"Total Products Ordered: {total_products_ordered}\")\n",
    "print(f\"Percentage of Products Ordered: {percentage_of_products_ordered}%\")\n"
   ]
  },
  {
   "cell_type": "code",
   "execution_count": 58,
   "id": "0ce32e35-a00e-44f3-a672-077abae6a990",
   "metadata": {},
   "outputs": [
    {
     "name": "stdout",
     "output_type": "stream",
     "text": [
      "{'t-shirt': 10, 'mug': 10, 'hat': 9, 'book': 9, 'keychain': 10}\n"
     ]
    }
   ],
   "source": [
    "#Final Inventory:\n",
    "for x in customer_orders:\n",
    "    if x in inventory:\n",
    "        inventory[x] -= 1\n",
    "\n",
    "print(inventory)"
   ]
  },
  {
   "cell_type": "code",
   "execution_count": null,
   "id": "c9898b84-5b53-4a59-ba77-fb8064f0c6c9",
   "metadata": {},
   "outputs": [],
   "source": []
  }
 ],
 "metadata": {
  "kernelspec": {
   "display_name": "Python 3 (ipykernel)",
   "language": "python",
   "name": "python3"
  },
  "language_info": {
   "codemirror_mode": {
    "name": "ipython",
    "version": 3
   },
   "file_extension": ".py",
   "mimetype": "text/x-python",
   "name": "python",
   "nbconvert_exporter": "python",
   "pygments_lexer": "ipython3",
   "version": "3.12.4"
  }
 },
 "nbformat": 4,
 "nbformat_minor": 5
}
